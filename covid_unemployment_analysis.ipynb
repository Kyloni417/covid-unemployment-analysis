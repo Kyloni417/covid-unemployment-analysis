
{
 "cells": [
  {
   "cell_type": "markdown",
   "metadata": {},
   "source": [
    "# COVID-19 Impact on US Unemployment\n",
    "This analysis explores how the COVID-19 pandemic affected US unemployment rates from 2019–2022."
   ]
  },
  {
   "cell_type": "code",
   "execution_count": null,
   "metadata": {},
   "outputs": [],
   "source": [
    "import pandas as pd\n",
    "import matplotlib.pyplot as plt\n",
    "import seaborn as sns"
   ]
  },
  {
   "cell_type": "code",
   "execution_count": null,
   "metadata": {},
   "outputs": [],
   "source": [
    "covid = pd.read_csv('covid_cases.csv')\n",
    "unemployment = pd.read_csv('unemployment.csv')"
   ]
  },
  {
   "cell_type": "code",
   "execution_count": null,
   "metadata": {},
   "outputs": [],
   "source": [
    "covid['date'] = pd.to_datetime(covid['date'])\n",
    "unemployment['date'] = pd.to_datetime(unemployment['date'])\n",
    "merged = pd.merge(unemployment, covid, on='date')\n",
    "merged.head()"
   ]
  },
  {
   "cell_type": "code",
   "execution_count": null,
   "metadata": {},
   "outputs": [],
   "source": [
    "plt.figure(figsize=(12,6))\n",
    "sns.lineplot(data=merged, x='date', y='unemployment_rate', label='Unemployment Rate')\n",
    "sns.lineplot(data=merged, x='date', y=merged['cases']/1000, label='COVID Cases (in thousands)')\n",
    "plt.title('COVID Cases vs. Unemployment Rate')\n",
    "plt.xlabel('Date')\n",
    "plt.ylabel('Value')\n",
    "plt.legend()\n",
    "plt.show()"
   ]
  }
 ],
 "metadata": {
  "kernelspec": {
   "display_name": "Python 3",
   "language": "python",
   "name": "python3"
  },
  "language_info": {
   "name": "python",
   "version": "3.x"
  }
 },
 "nbformat": 4,
 "nbformat_minor": 2
}
